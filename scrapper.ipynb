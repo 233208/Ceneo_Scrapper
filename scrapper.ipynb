{
 "cells": [
  {
   "cell_type": "markdown",
   "metadata": {},
   "source": [
    "# Ceneo Webscrapper"
   ]
  },
  {
   "cell_type": "markdown",
   "metadata": {},
   "source": [
    "# Struktura pojedynczej opinii w serwisie Ceneo.pl\n",
    "\n",
    "|Składowa|Selektor|Zmienna|\n",
    "|--------|--------|-------|\n",
    "|id opinii| [\"data-entry-id\"] | opinion_id |\n",
    "|autor| span.user-post__author-name | author |\n",
    "|rekomendacja| span.user-post__author-recomendation > em | recommendation |\n",
    "|gwiazdki| span.user-post__score-count | stars |\n",
    "|treść| div.user-post__text | content |\n",
    "|lista zalet| div.review-feature__title--positives ~ div.review-feature__item | pros |\n",
    "|lista wad| div.review-feature__title--negatives ~ div.review-feature__item | cons |\n",
    "|dal ilu przydatna| span[id^=\"votes-yes\"] | useful |\n",
    "|dla ilu nieprzydatna| span[id=^\"votes-no\"] | useless |\n",
    "|data wystawienia| user-post__published > time:nth-child(1)[\"datetime\"]| post_date |\n",
    "|data zakupu| user-post__published > time:nth-child(2)[\"datetime\"] | purchace_date |"
   ]
  },
  {
   "cell_type": "markdown",
   "metadata": {},
   "source": [
    "# Biblioteki"
   ]
  },
  {
   "cell_type": "code",
   "execution_count": 6,
   "metadata": {},
   "outputs": [],
   "source": [
    "import os\n",
    "import json\n",
    "import requests\n",
    "from bs4 import BeautifulSoup"
   ]
  },
  {
   "cell_type": "markdown",
   "metadata": {},
   "source": [
    "# Zadanie 1"
   ]
  },
  {
   "cell_type": "markdown",
   "metadata": {},
   "source": [
    "# Wysłanie requesta"
   ]
  },
  {
   "cell_type": "code",
   "execution_count": 7,
   "metadata": {},
   "outputs": [],
   "source": [
    "product_id = \"114700014\"\n",
    "url = f\"https://www.ceneo.pl/{product_id}/opinie-2\"\n",
    "\n"
   ]
  },
  {
   "cell_type": "code",
   "execution_count": 8,
   "metadata": {},
   "outputs": [],
   "source": [
    "all_opinions = []\n",
    "while (url):\n",
    "    response = requests.get(url)\n",
    "    page_dom = BeautifulSoup(response.text, 'html.parser')\n",
    "    opinions = page_dom.select(\"div.js_product-review\")\n",
    "    opinion = page_dom.select_one(\"div.js_product-review\")\n",
    "\n",
    "    for opinion in opinions:\n",
    "        try:\n",
    "            single_opinion = {\n",
    "                \"opinion_id\": opinion[\"data-entry-id\"],\n",
    "                \"author\": opinion.select_one(\"span.user-post__author-name\").get_text().strip(),\n",
    "                \"recommendation\": opinion.select_one(\"span.user-post__author-recomendation > em\").get_text().strip(),\n",
    "                \"stars\": opinion.select_one(\"span.user-post__score-count\").get_text().strip(),\n",
    "                \"content\": opinion.select_one(\"div.user-post__text\").get_text().strip(),\n",
    "                \"pros\": [p.get_text().strip() for p in opinion.select(\"div.review-feature__title--positives ~ div.review-feature__item\")],\n",
    "                \"cons\": [c.get_text().strip() for c in opinion.select(\"div.review-feature__title--negatives ~ div.review-feature__item\")],\n",
    "                \"useful\": opinion.select_one(\"span[id^='votes-yes']\").get_text().strip(),\n",
    "                \"useless\": opinion.select_one(\"span[id^='votes-no']\").get_text().strip(),\n",
    "                \"purchased\": opinion.select_one(\"span.user-post__published > time:nth-child(1)\")['datetime'].strip(),\n",
    "                \"publish_date\": opinion.select_one(\"span.user-post__published > time:nth-child(2)\")['datetime'].strip()\n",
    "            }\n",
    "            all_opinions.append(single_opinion)\n",
    "        except (AttributeError, TypeError):\n",
    "            pass    \n",
    "    try:    \n",
    "        url = \"https://www.ceneo.pl/\"+page_dom.select_one(\"a.pagination__next\")['href']\n",
    "    except TypeError:\n",
    "        url = None"
   ]
  },
  {
   "cell_type": "code",
   "execution_count": 9,
   "metadata": {},
   "outputs": [],
   "source": [
    "if not os.path.exists(\"opinions\"):\n",
    "    os.mkdir(\"opinions\")\n",
    "with open(f\"opinions/{product_id}.json\", \"w\", encoding=\"UTF-8\") as jf:\n",
    "    json.dump(all_opinions, jf, indent=4, ensure_ascii=False)\n"
   ]
  },
  {
   "cell_type": "code",
   "execution_count": 10,
   "metadata": {},
   "outputs": [
    {
     "name": "stdout",
     "output_type": "stream",
     "text": [
      "18\n",
      "[{'opinion_id': '18226826', 'author': 'a...i', 'recommendation': 'Polecam', 'stars': '5/5', 'content': 'To rzeczywiście wysoka półka.\\nJedyną wadą jest chęć producenta do uproszczenia obsługi - poszedł w tym za bardzo w kierunku \"jednoprzyciskowości\" - lepsze jest wrogiem dobrego, ale żeby to pojąć trzeba dojrzeć. Niemniej i tak jestem bardzo zadowolony. Stary odkurzacz jest już w piwnicy.', 'pros': ['dużo końcówek', 'lekki', 'poręczny', 'przycisk zasilania', 'wyświetlacz'], 'cons': ['słaba bateria'], 'useful': '2', 'useless': '0', 'purchased': '2023-12-20 00:33:01', 'publish_date': '2023-12-08 22:22:49'}, {'opinion_id': '15437754', 'author': 'nemesis wawa', 'recommendation': 'Polecam', 'stars': '5/5', 'content': 'Zmiana z v8 zdecydowanie na plus. Dużo lżejszy i zwinniejszy. Opcja pokazywania czasu pozostałego do końca pracy baterii bardzo przydatna. Nie trzeba trzymać przycisku włączania.. Solidne wykonanie. Wart swojej ceny :)', 'pros': ['dużo końcówek', 'lekki', 'poręczny', 'przycisk zasilania', 'wyświetlacz'], 'cons': ['brak'], 'useful': '2', 'useless': '0', 'purchased': '2021-12-28 08:49:18', 'publish_date': '2021-12-17 21:01:22'}, {'opinion_id': '17531964', 'author': 'w...n', 'recommendation': 'Polecam', 'stars': '4,5/5', 'content': 'Świetny. Końcówka do tapicerki nie jest tak skuteczna, jak wygląda w reklamach, ale reszta niezwykle poręczna. Ten model jest lekki, a to zaczyna być ważne w 2 połowie sprzątania domu. Coś za coś - baterię trzeba doładować, chyba, że się człowiek pospieszy. POLECAMY.', 'pros': ['lekki', 'poręczny', 'przycisk zasilania', 'wyświetlacz'], 'cons': [], 'useful': '0', 'useless': '0', 'purchased': '2023-05-22 06:57:51', 'publish_date': '2023-05-09 06:29:27'}, {'opinion_id': '18533359', 'author': 'o...a', 'recommendation': 'Polecam', 'stars': '5/5', 'content': 'Po 12 latach użytkowania ciężkiego \"Rainbow\" to zbawienie dla mojego kręgosłupa. Uważam to jest to niezbędnik każdego wariata który uwielbia mieć czysto i dodatkowo ma dzieciaki.\\nJak na razie \"Kocham Dyson V12\" mam nadzieję, że mnie nie zawiedzie :)', 'pros': [], 'cons': [], 'useful': '0', 'useless': '0', 'purchased': '2024-03-28 14:59:39', 'publish_date': '2024-03-20 19:55:02'}, {'opinion_id': '18178470', 'author': 's...a', 'recommendation': 'Polecam', 'stars': '5/5', 'content': 'od teraz sprzątanie do przyjemność. urządzenie działa bez zarzutu, sprawnie. kupując kierowałam się  również jego wagą i jednak trochę waży więc jeśli faktycznie jest to najlżejszy model to cieszę się że go wzięłam bo przy innych bolałaby ręka', 'pros': [], 'cons': [], 'useful': '0', 'useless': '0', 'purchased': '2023-12-06 10:51:04', 'publish_date': '2023-11-25 13:30:36'}, {'opinion_id': '17801265', 'author': 'w...3', 'recommendation': 'Polecam', 'stars': '5/5', 'content': 'Produkt bardzo ładny pod względem wizualnym, lekki, wygodny, cichy, nie zajmuje dużo miejsca, bardzo dobrze odkurza, praktyczne końcówki, szybko można go opróżnić, bateria wystarcza (używany jest w mieszkaniu na małej powierzchni).', 'pros': ['dużo końcówek', 'poręczny', 'przycisk zasilania', 'wyświetlacz'], 'cons': [], 'useful': '0', 'useless': '0', 'purchased': '2023-08-14 11:53:13', 'publish_date': '2023-07-27 14:54:11'}, {'opinion_id': '18059467', 'author': 'A...p', 'recommendation': 'Polecam', 'stars': '5/5', 'content': 'Rewelacyjny, nowoczesny i lekki odkurzacz. Maga robotę robi podświetlenie laserem, bardzo lekki. Przez miesiąc rozważałąm różne modele. Towar wart swojej ceny, kupiony o ponad 400 zł taniej niż w marketach ze sprzętem agd.', 'pros': ['dużo końcówek', 'poręczny', 'przycisk zasilania', 'wyświetlacz'], 'cons': [], 'useful': '0', 'useless': '0', 'purchased': '2023-11-02 11:07:19', 'publish_date': '2023-10-30 14:19:14'}, {'opinion_id': '17477429', 'author': 'Grzegorz', 'recommendation': 'Polecam', 'stars': '5/5', 'content': \"Bardzo fajny odkurzacz .. kolcówka 'laserowa' .. eksponuje każdy najmniejszy brud, szczotki bardzo dobre, faktycznie włosy się nie wplątują. Warto do nie dokupic stojak na wszystkie akcesoria\", 'pros': ['dużo końcówek', 'lekki', 'poręczny', 'przycisk zasilania', 'wyświetlacz'], 'cons': [], 'useful': '0', 'useless': '0', 'purchased': '2023-05-05 14:39:54', 'publish_date': '2023-04-24 23:39:55'}, {'opinion_id': '17700991', 'author': 'i...o', 'recommendation': 'Polecam', 'stars': '5/5', 'content': 'Bardzo dobry odkurzacz. Odkurzanie to przyjemność, żadnych kłopotliwych rur i kabli. Odpowiednio dobrana siła ssania do odkurzanej powierzchni. Elektroszczotka hit! Czysciutka bez owiniętych włosów.', 'pros': ['dużo końcówek', 'lekki', 'poręczny', 'przycisk zasilania', 'wyświetlacz'], 'cons': [], 'useful': '0', 'useless': '1', 'purchased': '2023-07-12 21:02:55', 'publish_date': '2023-07-02 09:02:02'}, {'opinion_id': '15480615', 'author': '5...a', 'recommendation': 'Polecam', 'stars': '5/5', 'content': 'Jak na odkurzacz bezprzewodowy, jestem naprawdę pod dużym wrażeniem. Tryb turbo ma niesamowitą moc, wielki plus również za dodatkowe końcówki, dzięki którym można odkurzyć każdy kont.', 'pros': [], 'cons': [], 'useful': '0', 'useless': '0', 'purchased': '2021-12-30 22:33:03', 'publish_date': '2021-12-22 21:32:43'}, {'opinion_id': '18328828', 'author': 'j...a', 'recommendation': 'Polecam', 'stars': '5/5', 'content': 'Produkt pierwsza klasa. Długo się wahałam przed wyborem. Zastanawiałam się nad Samsung Jet ale w końcu wybór padł na Dyson V12. Nie zamieniłabym już go na żaden inny. Polecam!', 'pros': ['dużo końcówek', 'poręczny', 'przycisk zasilania', 'wyświetlacz'], 'cons': [], 'useful': '0', 'useless': '0', 'purchased': '2024-01-23 11:02:39', 'publish_date': '2023-12-28 18:43:28'}, {'opinion_id': '18553327', 'author': 'o...3', 'recommendation': 'Polecam', 'stars': '5/5', 'content': 'Polecam, to lekki odkurzacz ułatwiający codzienne sprzątanie. Szczotka laserowa ujawnia to, czego nie widać (kurz, sierść zwierząt) i daje pewność dokładnego posprzątania.', 'pros': ['dużo końcówek', 'lekki', 'poręczny', 'przycisk zasilania', 'wyświetlacz', 'wytrzymała bateria', 'zwrotny'], 'cons': [], 'useful': '0', 'useless': '0', 'purchased': '2024-04-05 15:00:32', 'publish_date': '2024-03-30 12:52:22'}, {'opinion_id': '18302419', 'author': 'g...i', 'recommendation': 'Polecam', 'stars': '5/5', 'content': 'bardzo , bardzo dorby, bateria naprawdę długo trzyma, podświetlenie skutecznie pokazuje potrzebę odkurzania, a sam odkurzacz jest mega, szok jaką ma moc i dokładność', 'pros': ['dużo końcówek', 'lekki', 'poręczny', 'przycisk zasilania', 'wyświetlacz', 'wytrzymała bateria'], 'cons': [], 'useful': '0', 'useless': '0', 'purchased': '2024-01-15 09:27:28', 'publish_date': '2023-12-31 11:30:00'}, {'opinion_id': '18085367', 'author': 'rpierz', 'recommendation': 'Polecam', 'stars': '5/5', 'content': 'Lekki, poręczny i ma moc odkurzacza sieciowego. Super zaprojektowane szczotki w które nie wk®ecają się włosy co mnie bardzo denerwowało w odkurzaczu innej marki.', 'pros': ['dużo końcówek', 'lekki', 'poręczny', 'przycisk zasilania', 'wyświetlacz'], 'cons': [], 'useful': '0', 'useless': '0', 'purchased': '2023-11-10 08:43:51', 'publish_date': '2023-10-18 17:36:32'}, {'opinion_id': '17351858', 'author': 'g...1', 'recommendation': 'Polecam', 'stars': '4/5', 'content': 'Brak instrukcji w języku polskim, przynajmniej w dostarczonym mi produkcie. Lekki, poręczny. Ujawnia bezlitośnie kurz, ale jego moc ssąca nie powala.', 'pros': ['dużo końcówek', 'poręczny', 'przycisk zasilania', 'wyświetlacz'], 'cons': [], 'useful': '0', 'useless': '0', 'purchased': '2023-04-02 13:17:35', 'publish_date': '2023-03-30 13:00:40'}, {'opinion_id': '18315111', 'author': 'a...d', 'recommendation': 'Polecam', 'stars': '5/5', 'content': 'Najlepszy, dodatkowy atut to włącznik/wyłącznik na obudowie, który zwalnia konieczność kłopotliwego trzymania włącznika palcem, bardzo duże ułatwienie', 'pros': ['poręczny', 'wyświetlacz'], 'cons': [], 'useful': '0', 'useless': '0', 'purchased': '2024-01-18 09:52:26', 'publish_date': '2024-01-04 00:19:22'}, {'opinion_id': '17844254', 'author': 'a...1', 'recommendation': 'Polecam', 'stars': '4/5', 'content': 'w sumie ok  ale  przy zwiększeniu mocy dosyć skraca się  czas pracy urządzenia . Przy optymalnej mocy słaby ciąg dla końcówek bez wspomagania', 'pros': ['dużo końcówek', 'lekki', 'poręczny', 'przycisk zasilania', 'wyświetlacz'], 'cons': [], 'useful': '0', 'useless': '0', 'purchased': '2023-08-28 11:50:16', 'publish_date': '2023-08-18 15:00:47'}, {'opinion_id': '18439828', 'author': 'j...k', 'recommendation': 'Polecam', 'stars': '5/5', 'content': 'jak na początku jestem pod wielkim wrażeniem że coś tak małego może być tak skuteczne (tradycyjny odkurzacz wymięka - poszedł w odstawkę)', 'pros': ['dużo końcówek', 'lekki', 'poręczny', 'przycisk zasilania', 'wyświetlacz', 'wytrzymała bateria', 'zwrotny'], 'cons': [], 'useful': '0', 'useless': '0', 'purchased': '2024-02-27 09:41:26', 'publish_date': '2024-02-19 11:32:56'}]\n"
     ]
    }
   ],
   "source": [
    "print(len(all_opinions))\n",
    "print(all_opinions)"
   ]
  }
 ],
 "metadata": {
  "kernelspec": {
   "display_name": ".venv",
   "language": "python",
   "name": "python3"
  },
  "language_info": {
   "codemirror_mode": {
    "name": "ipython",
    "version": 3
   },
   "file_extension": ".py",
   "mimetype": "text/x-python",
   "name": "python",
   "nbconvert_exporter": "python",
   "pygments_lexer": "ipython3",
   "version": "3.12.2"
  }
 },
 "nbformat": 4,
 "nbformat_minor": 2
}
