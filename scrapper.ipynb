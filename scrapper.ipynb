{
 "cells": [
  {
   "cell_type": "markdown",
   "metadata": {},
   "source": [
    "# Ceneo Webscrapper"
   ]
  },
  {
   "cell_type": "markdown",
   "metadata": {},
   "source": [
    "# Biblioteki"
   ]
  },
  {
   "cell_type": "code",
   "execution_count": 19,
   "metadata": {},
   "outputs": [],
   "source": [
    "import requests\n",
    "from bs4 import BeautifulSoup"
   ]
  },
  {
   "cell_type": "markdown",
   "metadata": {},
   "source": [
    "# Zadanie 1"
   ]
  },
  {
   "cell_type": "markdown",
   "metadata": {},
   "source": [
    "# Wysłanie requesta"
   ]
  },
  {
   "cell_type": "code",
   "execution_count": 20,
   "metadata": {},
   "outputs": [],
   "source": [
    "product_id = \"114700014\"\n",
    "url = f\"https://www.ceneo.pl/{product_id}/opinie-2\"\n",
    "response = requests.get(url)\n"
   ]
  },
  {
   "cell_type": "code",
   "execution_count": 21,
   "metadata": {},
   "outputs": [
    {
     "name": "stdout",
     "output_type": "stream",
     "text": [
      "<class 'bs4.BeautifulSoup'>\n",
      "<class 'bs4.element.ResultSet'>\n",
      "<class 'bs4.element.Tag'>\n",
      "<div class=\"user-post user-post__card js_product-review\" data-entry-id=\"15437754\">\n",
      " <header class=\"user-post__header\">\n",
      "  <div class=\"js_lazy user-post__avatar user-rank__avatar\" data-bg=\"/Content/img/account/avatar/7.svg\">\n",
      "  </div>\n",
      " </header>\n",
      " <div class=\"user-post__body\">\n",
      "  <div class=\"user-post__content\">\n",
      "   <span class=\"user-post__author-name\">\n",
      "    nemesis wawa\n",
      "   </span>\n",
      "   <span class=\"user-post__author-recomendation\">\n",
      "    <em class=\"recommended\">\n",
      "     Polecam\n",
      "    </em>\n",
      "   </span>\n",
      "   <span class=\"user-post__score\">\n",
      "    <span class=\"screen-reader-text\">\n",
      "     Ocena:\n",
      "    </span>\n",
      "    <span class=\"score-container score-container--s js_score-container\">\n",
      "     <span class=\"score-marker score-marker--s\" style=\"width: 100.00%;\">\n",
      "     </span>\n",
      "    </span>\n",
      "    <span class=\"user-post__score-count\">\n",
      "     5/5\n",
      "    </span>\n",
      "    <span class=\"user-post__published\">\n",
      "     Wystawiono\n",
      "     <time datetime=\"2021-12-28 08:49:18\">\n",
      "      3 lata temu,\n",
      "     </time>\n",
      "     <time datetime=\"2021-12-17 21:01:22\">\n",
      "      po 2 tygodniach\n",
      "     </time>\n",
      "     użytkowania\n",
      "    </span>\n",
      "   </span>\n",
      "   <div class=\"user-post__text\">\n",
      "    Zmiana z v8 zdecydowanie na plus. Dużo lżejszy i zwinniejszy. Opcja pokazywania czasu pozostałego do końca pracy baterii bardzo przydatna. Nie trzeba trzymać przycisku włączania.. Solidne wykonanie. Wart swojej ceny :)\n",
      "   </div>\n",
      "   <div class=\"review-feature\">\n",
      "    <div class=\"review-feature__col\">\n",
      "     <div class=\"review-feature__title review-feature__title--positives\">\n",
      "      Zalety\n",
      "     </div>\n",
      "     <div class=\"review-feature__item\">\n",
      "      dużo końcówek\n",
      "     </div>\n",
      "     <div class=\"review-feature__item\">\n",
      "      lekki\n",
      "     </div>\n",
      "     <div class=\"review-feature__item\">\n",
      "      poręczny\n",
      "     </div>\n",
      "     <div class=\"review-feature__item\">\n",
      "      przycisk zasilania\n",
      "     </div>\n",
      "     <div class=\"review-feature__item\">\n",
      "      wyświetlacz\n",
      "     </div>\n",
      "    </div>\n",
      "    <div class=\"review-feature__col\">\n",
      "     <div class=\"review-feature__title review-feature__title--negatives\">\n",
      "      Wady\n",
      "     </div>\n",
      "     <div class=\"review-feature__item\">\n",
      "      brak\n",
      "     </div>\n",
      "    </div>\n",
      "   </div>\n",
      "   <div class=\"user-post__bottom\">\n",
      "   </div>\n",
      "  </div>\n",
      "  <div class=\"user-post__info\">\n",
      "   <div class=\"d-flex align-items-center justify-content-end\">\n",
      "    <div class=\"js_product-review-usefulness vote\">\n",
      "     <button class=\"vote-yes js_product-review-vote js_vote-yes\" data-new-icon=\"vote-up\" data-product-id=\"114700014\" data-review-id=\"15437754\" data-total-vote=\"2\" data-url=\"SetOpinionVote\" data-vote=\"1\" data-voted=\"false\">\n",
      "      <span id=\"votes-yes-15437754\">\n",
      "       2\n",
      "      </span>\n",
      "     </button>\n",
      "     <button class=\"vote-no js_product-review-vote js_vote-no\" data-new-icon=\"vote-down\" data-product-id=\"114700014\" data-review-id=\"15437754\" data-total-vote=\"0\" data-url=\"SetOpinionVote\" data-vote=\"0\" data-voted=\"false\">\n",
      "      <span id=\"votes-no-15437754\">\n",
      "       0\n",
      "      </span>\n",
      "     </button>\n",
      "    </div>\n",
      "    <div class=\"dropdown-wrapper\">\n",
      "     <span class=\"dots-icon-vert\" data-toggle=\"dropdown\">\n",
      "     </span>\n",
      "     <ul class=\"dropdown-menu force-left\">\n",
      "      <li class=\"dropdown-menu__item\" data-product-id=\"114700014\" data-review-id=\"15437754\">\n",
      "       <div class=\"js_report-abuse report-abuse cursor-pointer\" data-report-type=\"1\" role=\"button\">\n",
      "        <span>\n",
      "         Zgłoś\n",
      "        </span>\n",
      "       </div>\n",
      "      </li>\n",
      "     </ul>\n",
      "    </div>\n",
      "   </div>\n",
      "   <div class=\"review-pz\" data-hint=\"Opinia została napisana przez Użytkownika, który kupił produkt.\">\n",
      "    <em>\n",
      "     Transakcja pochodzi z Marketplace Ceneo (usługi Kup Teraz).\n",
      "    </em>\n",
      "   </div>\n",
      "  </div>\n",
      "  <div class=\"js_product-review-comments js_product-review-hook js_product-review-comments-list\" id=\"product-review-comments-15437754\">\n",
      "   <a class=\"user-post js_product-review-comment-toggle\" data-comments-count=\"0\" data-product-review-id=\"114700014\" data-review-id=\"15437754\" href=\"#product-review-comment-15437754\" role=\"button\">\n",
      "   </a>\n",
      "   <div class=\"js_product-review-form-hook\" id=\"product-review-comment-15437754\">\n",
      "   </div>\n",
      "  </div>\n",
      " </div>\n",
      "</div>\n",
      "\n"
     ]
    }
   ],
   "source": [
    "page_dom = BeautifulSoup(response.text, 'html.parser')\n",
    "print(type(page_dom))\n",
    "opinions = page_dom.select(\"div.js_product-review\")\n",
    "print(type(opinions))\n",
    "opinion = opinions.pop(0)\n",
    "print(type(opinion))\n",
    "print(opinion.prettify())\n"
   ]
  },
  {
   "cell_type": "markdown",
   "metadata": {},
   "source": [
    "# Ekstrakcja skłądowych pojedynzej opinii\n",
    "\n",
    "|Składowa|Selektor|Zmienna|\n",
    "|--------|--------|-------|\n",
    "|id opinii| [\"data-entry-id\"] | opinion_id |\n",
    "|autor| span.user-post__author-name | author |\n",
    "|rekomendacja| span.user-post__author-recomendation | recommendation |\n",
    "|gwiazdki| span.user-post__score-count | stars |\n",
    "|treść| div.user-post__text | content |\n",
    "|lista zalet| div.review-feature__title--positives ~ div.review-feature__item | pros |\n",
    "|lista wad| div.review-feature__title--negatives ~ div.review-feature__item | cons |\n",
    "|dal ilu przydatna| span[id^=\"votes-yes\"] | useful |\n",
    "|dla ilu nieprzydatna| span[id=^\"votes-no\"] | useless |\n",
    "|data wystawienia| user-post__published > time:nth-child(1)[\"datetime\"]| post_date |\n",
    "|data zakupu| user-post__published > time:nth-child(2)[\"datetime\"] | purchace_date |"
   ]
  },
  {
   "cell_type": "code",
   "execution_count": 22,
   "metadata": {},
   "outputs": [
    {
     "ename": "AttributeError",
     "evalue": "'NoneType' object has no attribute 'get_text'",
     "output_type": "error",
     "traceback": [
      "\u001b[1;31m---------------------------------------------------------------------------\u001b[0m",
      "\u001b[1;31mAttributeError\u001b[0m                            Traceback (most recent call last)",
      "Cell \u001b[1;32mIn[22], line 3\u001b[0m\n\u001b[0;32m      1\u001b[0m opinion_id \u001b[38;5;241m=\u001b[39m opinion[\u001b[38;5;124m\"\u001b[39m\u001b[38;5;124mdata-entry-id\u001b[39m\u001b[38;5;124m\"\u001b[39m]\n\u001b[0;32m      2\u001b[0m author \u001b[38;5;241m=\u001b[39m opinion\u001b[38;5;241m.\u001b[39mselect_one(\u001b[38;5;124m\"\u001b[39m\u001b[38;5;124mspan.user-post__author-name\u001b[39m\u001b[38;5;124m\"\u001b[39m)\u001b[38;5;241m.\u001b[39mget_text()\u001b[38;5;241m.\u001b[39mstrip()\n\u001b[1;32m----> 3\u001b[0m recommendation \u001b[38;5;241m=\u001b[39m \u001b[43mopinion\u001b[49m\u001b[38;5;241;43m.\u001b[39;49m\u001b[43mselect_one\u001b[49m\u001b[43m(\u001b[49m\u001b[38;5;124;43m\"\u001b[39;49m\u001b[38;5;124;43mdiv.product-review-summary > em\u001b[39;49m\u001b[38;5;124;43m\"\u001b[39;49m\u001b[43m)\u001b[49m\u001b[38;5;241;43m.\u001b[39;49m\u001b[43mget_text\u001b[49m()\u001b[38;5;241m.\u001b[39mstrip()\n\u001b[0;32m      4\u001b[0m stars \u001b[38;5;241m=\u001b[39m opinion\u001b[38;5;241m.\u001b[39mselect_one(\u001b[38;5;124m\"\u001b[39m\u001b[38;5;124mspan.review-score-count\u001b[39m\u001b[38;5;124m\"\u001b[39m)\u001b[38;5;241m.\u001b[39mget_text()\u001b[38;5;241m.\u001b[39mstrip()\n\u001b[0;32m      5\u001b[0m content \u001b[38;5;241m=\u001b[39m opinion\u001b[38;5;241m.\u001b[39mselect_one(\u001b[38;5;124m\"\u001b[39m\u001b[38;5;124mp.product-review-body\u001b[39m\u001b[38;5;124m\"\u001b[39m)\u001b[38;5;241m.\u001b[39mget_text()\u001b[38;5;241m.\u001b[39mstrip()\n",
      "\u001b[1;31mAttributeError\u001b[0m: 'NoneType' object has no attribute 'get_text'"
     ]
    }
   ],
   "source": [
    "opinion_id = opinion[\"data-entry-id\"]\n",
    "author = opinion.select_one(\"span.user-post__author-name\").get_text().strip()\n",
    "recommendation = opinion.select_one(\"user-post__author-recomendation\").get_text().strip()\n",
    "stars = opinion.select_one(\"span.user-post__score-count\").get_text().strip()\n",
    "content = opinion.select_one(\"user-post__text\").get_text().strip()\n",
    "pros = opinion.select(\"div.review-feature__title--positives ~ div.review-feature__item \")\n",
    "cons = opinion.select(\"div.review-feature__title--negatives ~ div.review-feature__item\")\n",
    "useful = opinion.select_one(\"button.vote-yes > span\").get_text().strip()\n",
    "useless = opinion.select_one(\"button.vote-no > span\").get_text().strip()\n",
    "purchased = opinion.select_one(\"div.product-review-pz\").get_text().strip()\n",
    "publish_date = opinion.select_one(\"span.review-time > time\")[\"datetime\"]\n"
   ]
  }
 ],
 "metadata": {
  "kernelspec": {
   "display_name": ".venv",
   "language": "python",
   "name": "python3"
  },
  "language_info": {
   "codemirror_mode": {
    "name": "ipython",
    "version": 3
   },
   "file_extension": ".py",
   "mimetype": "text/x-python",
   "name": "python",
   "nbconvert_exporter": "python",
   "pygments_lexer": "ipython3",
   "version": "3.12.2"
  }
 },
 "nbformat": 4,
 "nbformat_minor": 2
}
