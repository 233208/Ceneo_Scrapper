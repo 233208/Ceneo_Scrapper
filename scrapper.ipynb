{
 "cells": [
  {
   "cell_type": "markdown",
   "metadata": {},
   "source": [
    "# Ceneo Webscrapper"
   ]
  },
  {
   "cell_type": "markdown",
   "metadata": {},
   "source": [
    "# Biblioteki"
   ]
  },
  {
   "cell_type": "code",
   "execution_count": null,
   "metadata": {},
   "outputs": [],
   "source": [
    "import requests\n",
    "from bs4 import BeautifulSoup"
   ]
  },
  {
   "cell_type": "markdown",
   "metadata": {},
   "source": [
    "# Zadanie 1"
   ]
  },
  {
   "cell_type": "markdown",
   "metadata": {},
   "source": [
    "# Wysłanie requesta"
   ]
  },
  {
   "cell_type": "code",
   "execution_count": null,
   "metadata": {},
   "outputs": [],
   "source": [
    "product_id = \"114700014\"\n",
    "url = f\"https://www.ceneo.pl/{product_id}/opinie-2\"\n",
    "response = requests.get(url)\n"
   ]
  },
  {
   "cell_type": "code",
   "execution_count": null,
   "metadata": {},
   "outputs": [],
   "source": [
    "page_dom = BeautifulSoup(response.text, 'html.parser')\n",
    "print(type(page_dom))\n",
    "opinions = page_dom.select(\"div.js_product-review\")\n",
    "print(type(opinions))\n",
    "opinion = opinions.pop(0)\n",
    "print(type(opinion))\n",
    "print(opinion.prettify())\n"
   ]
  },
  {
   "cell_type": "markdown",
   "metadata": {},
   "source": [
    "# Ekstrakcja skłądowych pojedynzej opinii\n",
    "\n",
    "|Składowa|Selektor|Zmienna|\n",
    "|--------|--------|-------|\n",
    "|id opinii| [\"data-entry-id\"] | opinion_id |\n",
    "|autor| span.user-post__author-name | author |\n",
    "|rekomendacja| span.user-post__author-recomendation > em | recommendation |\n",
    "|gwiazdki| span.user-post__score-count | stars |\n",
    "|treść| div.user-post__text | content |\n",
    "|lista zalet| div.review-feature__title--positives ~ div.review-feature__item | pros |\n",
    "|lista wad| div.review-feature__title--negatives ~ div.review-feature__item | cons |\n",
    "|dal ilu przydatna| span[id^=\"votes-yes\"] | useful |\n",
    "|dla ilu nieprzydatna| span[id=^\"votes-no\"] | useless |\n",
    "|data wystawienia| user-post__published > time:nth-child(1)[\"datetime\"]| post_date |\n",
    "|data zakupu| user-post__published > time:nth-child(2)[\"datetime\"] | purchace_date |"
   ]
  },
  {
   "cell_type": "code",
   "execution_count": null,
   "metadata": {},
   "outputs": [],
   "source": [
    "opinion_id = opinion[\"data-entry-id\"]\n",
    "author = opinion.select_one(\"span.user-post__author-name\").get_text().strip()\n",
    "recommendation = opinion.select_one(\"user-post__author-recomendation\").get_text().strip()\n",
    "stars = opinion.select_one(\"span.user-post__score-count\").get_text().strip()\n",
    "content = opinion.select_one(\"user-post__text\").get_text().strip()\n",
    "pros = opinion.select(\"div.review-feature__title--positives ~ div.review-feature__item \")\n",
    "cons = opinion.select(\"div.review-feature__title--negatives ~ div.review-feature__item\")\n",
    "useful = opinion.select_one(\"button.vote-yes > span\").get_text().strip()\n",
    "useless = opinion.select_one(\"button.vote-no > span\").get_text().strip()\n",
    "purchased = opinion.select_one(\"div.product-review-pz\").get_text().strip()\n",
    "publish_date = opinion.select_one(\"span.review-time > time\")[\"datetime\"]\n"
   ]
  }
 ],
 "metadata": {
  "kernelspec": {
   "display_name": ".venv",
   "language": "python",
   "name": "python3"
  },
  "language_info": {
   "codemirror_mode": {
    "name": "ipython",
    "version": 3
   },
   "file_extension": ".py",
   "mimetype": "text/x-python",
   "name": "python",
   "nbconvert_exporter": "python",
   "pygments_lexer": "ipython3",
   "version": "3.12.2"
  }
 },
 "nbformat": 4,
 "nbformat_minor": 2
}
